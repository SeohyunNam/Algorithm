{
 "cells": [
  {
   "cell_type": "code",
   "execution_count": 278,
   "metadata": {},
   "outputs": [],
   "source": [
    "N=5\n",
    "number=31168"
   ]
  },
  {
   "cell_type": "code",
   "execution_count": 281,
   "metadata": {},
   "outputs": [],
   "source": [
    "def solution(N, number):\n",
    "\n",
    "    pos = [set([int(str(N)*i)]) for i in range(1,9)]\n",
    "    \n",
    "    for i in range(8):\n",
    "        for j in range(i):\n",
    "            for op1 in pos[j]:\n",
    "                for op2 in pos[i-j-1]:\n",
    "                    pos[i].add(op1 * op2)\n",
    "                    pos[i].add(op1 - op2)\n",
    "                    pos[i].add(op1 + op2)\n",
    "                    if op2 != 0:\n",
    "                        pos[i].add(op1 // op2)\n",
    "        if number in pos[i] :\n",
    "            return i+1\n",
    "    return -1"
   ]
  },
  {
   "cell_type": "code",
   "execution_count": 294,
   "metadata": {},
   "outputs": [],
   "source": [
    "code=\"\"\"def solution(N, number):\n",
    "    A = [set([int(str(N)*i)]) for i in range(1,9)]\n",
    "\n",
    "    for i in range(8):\n",
    "        for j in range(i):\n",
    "            for a in A[j]:\n",
    "                for b in A[i-j-1]:\n",
    "                    A[i].add(a+b)\n",
    "                    A[i].add(a-b)\n",
    "                    A[i].add(a*b)\n",
    "                    if b:\n",
    "                        A[i].add(a//b)\n",
    "        if number in A[i]:\n",
    "            return i+1\n",
    "    return -1\"\"\""
   ]
  },
  {
   "cell_type": "code",
   "execution_count": 293,
   "metadata": {},
   "outputs": [
    {
     "data": {
      "text/plain": [
       "-1"
      ]
     },
     "execution_count": 293,
     "metadata": {},
     "output_type": "execute_result"
    }
   ],
   "source": [
    "solution(N,number)"
   ]
  },
  {
   "cell_type": "code",
   "execution_count": 289,
   "metadata": {},
   "outputs": [
    {
     "name": "stdout",
     "output_type": "stream",
     "text": [
      "-\n",
      "0 0\n",
      "-\n",
      "0 1\n",
      "1 0\n",
      "-\n",
      "0 2\n",
      "1 1\n",
      "2 0\n",
      "-\n",
      "0 3\n",
      "1 2\n",
      "2 1\n",
      "3 0\n",
      "-\n",
      "0 4\n",
      "1 3\n",
      "2 2\n",
      "3 1\n",
      "4 0\n",
      "-\n",
      "0 5\n",
      "1 4\n",
      "2 3\n",
      "3 2\n",
      "4 1\n",
      "5 0\n",
      "-\n",
      "0 6\n",
      "1 5\n",
      "2 4\n",
      "3 3\n",
      "4 2\n",
      "5 1\n",
      "6 0\n",
      "-\n"
     ]
    }
   ],
   "source": [
    "for i in range(8):\n",
    "    for j in range(i):\n",
    "        print(j,i-j-1)\n",
    "    print(\"-\")"
   ]
  },
  {
   "cell_type": "code",
   "execution_count": 230,
   "metadata": {},
   "outputs": [
    {
     "name": "stdout",
     "output_type": "stream",
     "text": [
      "0 0 1\n",
      "---\n",
      "0 1 2\n",
      "---\n",
      "0 2 3\n",
      "1 1 3\n",
      "---\n",
      "0 3 4\n",
      "1 2 4\n",
      "---\n",
      "0 4 5\n",
      "1 3 5\n",
      "2 2 5\n",
      "---\n",
      "0 5 6\n",
      "1 4 6\n",
      "2 3 6\n",
      "---\n",
      "0 6 7\n",
      "1 5 7\n",
      "2 4 7\n",
      "3 3 7\n",
      "---\n",
      "0 7 8\n",
      "1 6 8\n",
      "2 5 8\n",
      "3 4 8\n",
      "---\n"
     ]
    }
   ],
   "source": [
    "for i in range(8):\n",
    "    for j in range(i//2+1):\n",
    "        print(j,i-j,i+1)\n",
    "    print('---')"
   ]
  },
  {
   "cell_type": "code",
   "execution_count": 227,
   "metadata": {},
   "outputs": [
    {
     "ename": "SyntaxError",
     "evalue": "'return' outside function (<ipython-input-227-5c7f233f9b93>, line 6)",
     "output_type": "error",
     "traceback": [
      "\u001b[1;36m  File \u001b[1;32m\"<ipython-input-227-5c7f233f9b93>\"\u001b[1;36m, line \u001b[1;32m6\u001b[0m\n\u001b[1;33m    return answer\u001b[0m\n\u001b[1;37m    ^\u001b[0m\n\u001b[1;31mSyntaxError\u001b[0m\u001b[1;31m:\u001b[0m 'return' outside function\n"
     ]
    }
   ],
   "source": [
    "answer = 1\n",
    "source=[]\n",
    "new_source=[]\n",
    "while True:\n",
    "    if number in new_source:\n",
    "        return answer\n",
    "    answer+=1\n",
    "    source+=new_source\n",
    "    new_source=[int(str(N)*answer)]\n",
    "    for i in range(len(source)):\n",
    "        new_source.append(source[i]*N)\n",
    "        new_source.append(source[i]+N)\n",
    "        new_source.append(source[i]-N)\n",
    "        new_source.append(source[i]/N)"
   ]
  },
  {
   "cell_type": "code",
   "execution_count": 12,
   "metadata": {},
   "outputs": [
    {
     "ename": "SyntaxError",
     "evalue": "'return' outside function (<ipython-input-12-2e3e2e35918a>, line 3)",
     "output_type": "error",
     "traceback": [
      "\u001b[1;36m  File \u001b[1;32m\"<ipython-input-12-2e3e2e35918a>\"\u001b[1;36m, line \u001b[1;32m3\u001b[0m\n\u001b[1;33m    return answer\u001b[0m\n\u001b[1;37m    ^\u001b[0m\n\u001b[1;31mSyntaxError\u001b[0m\u001b[1;31m:\u001b[0m 'return' outside function\n"
     ]
    }
   ],
   "source": [
    "while True:\n",
    "    if number in new_source:\n",
    "        return answer\n",
    "    answer+=1\n",
    "    source+=new_source\n",
    "    new_source=[int(str(N)*answer)]\n",
    "    for i in range(len(source)):\n",
    "        new_source.append(source[i]*N)\n",
    "        new_source.append(source[i]+N)\n",
    "        new_source.append(source[i]-N)\n",
    "        new_source.append(source[i]/N)"
   ]
  },
  {
   "cell_type": "code",
   "execution_count": 295,
   "metadata": {},
   "outputs": [],
   "source": [
    "which= \"P\"#(programmers-P,Backjoon-B,etc ..)\n",
    "problem_name=\"N으로 표현\"\n",
    "with open(\"%s-%s.py\"%(which,problem_name),'w') as f:\n",
    "    f.write(code)"
   ]
  },
  {
   "cell_type": "code",
   "execution_count": 11,
   "metadata": {},
   "outputs": [
    {
     "data": {
      "text/plain": [
       "[1, 2, 3, 4]"
      ]
     },
     "execution_count": 11,
     "metadata": {},
     "output_type": "execute_result"
    }
   ],
   "source": [
    "[1,2]+[3,4]"
   ]
  },
  {
   "cell_type": "code",
   "execution_count": null,
   "metadata": {},
   "outputs": [],
   "source": []
  }
 ],
 "metadata": {
  "kernelspec": {
   "display_name": "Python 3",
   "language": "python",
   "name": "python3"
  },
  "language_info": {
   "codemirror_mode": {
    "name": "ipython",
    "version": 3
   },
   "file_extension": ".py",
   "mimetype": "text/x-python",
   "name": "python",
   "nbconvert_exporter": "python",
   "pygments_lexer": "ipython3",
   "version": "3.7.6"
  }
 },
 "nbformat": 4,
 "nbformat_minor": 4
}
